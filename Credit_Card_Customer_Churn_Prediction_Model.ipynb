{
  "nbformat": 4,
  "nbformat_minor": 0,
  "metadata": {
    "colab": {
      "provenance": [],
      "authorship_tag": "ABX9TyM7mO7iT/201tqY5C7jvbF4",
      "include_colab_link": true
    },
    "kernelspec": {
      "name": "python3",
      "display_name": "Python 3"
    },
    "language_info": {
      "name": "python"
    }
  },
  "cells": [
    {
      "cell_type": "markdown",
      "metadata": {
        "id": "view-in-github",
        "colab_type": "text"
      },
      "source": [
        "<a href=\"https://colab.research.google.com/github/RudraKhare/DeepLearning/blob/main/Credit_Card_Customer_Churn_Prediction_Model.ipynb\" target=\"_parent\"><img src=\"https://colab.research.google.com/assets/colab-badge.svg\" alt=\"Open In Colab\"/></a>"
      ]
    },
    {
      "cell_type": "code",
      "execution_count": 120,
      "metadata": {
        "id": "i4xLlUxoHbx6"
      },
      "outputs": [],
      "source": [
        "import numpy as np\n",
        "import pandas as pd\n",
        "\n",
        "\n"
      ]
    },
    {
      "cell_type": "code",
      "source": [
        "df=pd.read_csv(\"/content/Churn_Modelling.csv\")"
      ],
      "metadata": {
        "id": "U9IU7x-hH-c3"
      },
      "execution_count": 121,
      "outputs": []
    },
    {
      "cell_type": "code",
      "source": [
        "df.head()"
      ],
      "metadata": {
        "colab": {
          "base_uri": "https://localhost:8080/",
          "height": 226
        },
        "id": "ELMzL19cIFc8",
        "outputId": "562f7e99-09c0-4887-ebc5-155cab02b2b6"
      },
      "execution_count": 122,
      "outputs": [
        {
          "output_type": "execute_result",
          "data": {
            "text/plain": [
              "   RowNumber  CustomerId   Surname  CreditScore Geography  Gender  Age  \\\n",
              "0          1    15634602  Hargrave          619    France  Female   42   \n",
              "1          2    15647311      Hill          608     Spain  Female   41   \n",
              "2          3    15619304      Onio          502    France  Female   42   \n",
              "3          4    15701354      Boni          699    France  Female   39   \n",
              "4          5    15737888  Mitchell          850     Spain  Female   43   \n",
              "\n",
              "   Tenure    Balance  NumOfProducts  HasCrCard  IsActiveMember  \\\n",
              "0       2       0.00              1          1               1   \n",
              "1       1   83807.86              1          0               1   \n",
              "2       8  159660.80              3          1               0   \n",
              "3       1       0.00              2          0               0   \n",
              "4       2  125510.82              1          1               1   \n",
              "\n",
              "   EstimatedSalary  Exited  \n",
              "0        101348.88       1  \n",
              "1        112542.58       0  \n",
              "2        113931.57       1  \n",
              "3         93826.63       0  \n",
              "4         79084.10       0  "
            ],
            "text/html": [
              "\n",
              "  <div id=\"df-06af9fa3-e1dc-4a5e-a5d8-16d6a12b6b7e\" class=\"colab-df-container\">\n",
              "    <div>\n",
              "<style scoped>\n",
              "    .dataframe tbody tr th:only-of-type {\n",
              "        vertical-align: middle;\n",
              "    }\n",
              "\n",
              "    .dataframe tbody tr th {\n",
              "        vertical-align: top;\n",
              "    }\n",
              "\n",
              "    .dataframe thead th {\n",
              "        text-align: right;\n",
              "    }\n",
              "</style>\n",
              "<table border=\"1\" class=\"dataframe\">\n",
              "  <thead>\n",
              "    <tr style=\"text-align: right;\">\n",
              "      <th></th>\n",
              "      <th>RowNumber</th>\n",
              "      <th>CustomerId</th>\n",
              "      <th>Surname</th>\n",
              "      <th>CreditScore</th>\n",
              "      <th>Geography</th>\n",
              "      <th>Gender</th>\n",
              "      <th>Age</th>\n",
              "      <th>Tenure</th>\n",
              "      <th>Balance</th>\n",
              "      <th>NumOfProducts</th>\n",
              "      <th>HasCrCard</th>\n",
              "      <th>IsActiveMember</th>\n",
              "      <th>EstimatedSalary</th>\n",
              "      <th>Exited</th>\n",
              "    </tr>\n",
              "  </thead>\n",
              "  <tbody>\n",
              "    <tr>\n",
              "      <th>0</th>\n",
              "      <td>1</td>\n",
              "      <td>15634602</td>\n",
              "      <td>Hargrave</td>\n",
              "      <td>619</td>\n",
              "      <td>France</td>\n",
              "      <td>Female</td>\n",
              "      <td>42</td>\n",
              "      <td>2</td>\n",
              "      <td>0.00</td>\n",
              "      <td>1</td>\n",
              "      <td>1</td>\n",
              "      <td>1</td>\n",
              "      <td>101348.88</td>\n",
              "      <td>1</td>\n",
              "    </tr>\n",
              "    <tr>\n",
              "      <th>1</th>\n",
              "      <td>2</td>\n",
              "      <td>15647311</td>\n",
              "      <td>Hill</td>\n",
              "      <td>608</td>\n",
              "      <td>Spain</td>\n",
              "      <td>Female</td>\n",
              "      <td>41</td>\n",
              "      <td>1</td>\n",
              "      <td>83807.86</td>\n",
              "      <td>1</td>\n",
              "      <td>0</td>\n",
              "      <td>1</td>\n",
              "      <td>112542.58</td>\n",
              "      <td>0</td>\n",
              "    </tr>\n",
              "    <tr>\n",
              "      <th>2</th>\n",
              "      <td>3</td>\n",
              "      <td>15619304</td>\n",
              "      <td>Onio</td>\n",
              "      <td>502</td>\n",
              "      <td>France</td>\n",
              "      <td>Female</td>\n",
              "      <td>42</td>\n",
              "      <td>8</td>\n",
              "      <td>159660.80</td>\n",
              "      <td>3</td>\n",
              "      <td>1</td>\n",
              "      <td>0</td>\n",
              "      <td>113931.57</td>\n",
              "      <td>1</td>\n",
              "    </tr>\n",
              "    <tr>\n",
              "      <th>3</th>\n",
              "      <td>4</td>\n",
              "      <td>15701354</td>\n",
              "      <td>Boni</td>\n",
              "      <td>699</td>\n",
              "      <td>France</td>\n",
              "      <td>Female</td>\n",
              "      <td>39</td>\n",
              "      <td>1</td>\n",
              "      <td>0.00</td>\n",
              "      <td>2</td>\n",
              "      <td>0</td>\n",
              "      <td>0</td>\n",
              "      <td>93826.63</td>\n",
              "      <td>0</td>\n",
              "    </tr>\n",
              "    <tr>\n",
              "      <th>4</th>\n",
              "      <td>5</td>\n",
              "      <td>15737888</td>\n",
              "      <td>Mitchell</td>\n",
              "      <td>850</td>\n",
              "      <td>Spain</td>\n",
              "      <td>Female</td>\n",
              "      <td>43</td>\n",
              "      <td>2</td>\n",
              "      <td>125510.82</td>\n",
              "      <td>1</td>\n",
              "      <td>1</td>\n",
              "      <td>1</td>\n",
              "      <td>79084.10</td>\n",
              "      <td>0</td>\n",
              "    </tr>\n",
              "  </tbody>\n",
              "</table>\n",
              "</div>\n",
              "    <div class=\"colab-df-buttons\">\n",
              "\n",
              "  <div class=\"colab-df-container\">\n",
              "    <button class=\"colab-df-convert\" onclick=\"convertToInteractive('df-06af9fa3-e1dc-4a5e-a5d8-16d6a12b6b7e')\"\n",
              "            title=\"Convert this dataframe to an interactive table.\"\n",
              "            style=\"display:none;\">\n",
              "\n",
              "  <svg xmlns=\"http://www.w3.org/2000/svg\" height=\"24px\" viewBox=\"0 -960 960 960\">\n",
              "    <path d=\"M120-120v-720h720v720H120Zm60-500h600v-160H180v160Zm220 220h160v-160H400v160Zm0 220h160v-160H400v160ZM180-400h160v-160H180v160Zm440 0h160v-160H620v160ZM180-180h160v-160H180v160Zm440 0h160v-160H620v160Z\"/>\n",
              "  </svg>\n",
              "    </button>\n",
              "\n",
              "  <style>\n",
              "    .colab-df-container {\n",
              "      display:flex;\n",
              "      gap: 12px;\n",
              "    }\n",
              "\n",
              "    .colab-df-convert {\n",
              "      background-color: #E8F0FE;\n",
              "      border: none;\n",
              "      border-radius: 50%;\n",
              "      cursor: pointer;\n",
              "      display: none;\n",
              "      fill: #1967D2;\n",
              "      height: 32px;\n",
              "      padding: 0 0 0 0;\n",
              "      width: 32px;\n",
              "    }\n",
              "\n",
              "    .colab-df-convert:hover {\n",
              "      background-color: #E2EBFA;\n",
              "      box-shadow: 0px 1px 2px rgba(60, 64, 67, 0.3), 0px 1px 3px 1px rgba(60, 64, 67, 0.15);\n",
              "      fill: #174EA6;\n",
              "    }\n",
              "\n",
              "    .colab-df-buttons div {\n",
              "      margin-bottom: 4px;\n",
              "    }\n",
              "\n",
              "    [theme=dark] .colab-df-convert {\n",
              "      background-color: #3B4455;\n",
              "      fill: #D2E3FC;\n",
              "    }\n",
              "\n",
              "    [theme=dark] .colab-df-convert:hover {\n",
              "      background-color: #434B5C;\n",
              "      box-shadow: 0px 1px 3px 1px rgba(0, 0, 0, 0.15);\n",
              "      filter: drop-shadow(0px 1px 2px rgba(0, 0, 0, 0.3));\n",
              "      fill: #FFFFFF;\n",
              "    }\n",
              "  </style>\n",
              "\n",
              "    <script>\n",
              "      const buttonEl =\n",
              "        document.querySelector('#df-06af9fa3-e1dc-4a5e-a5d8-16d6a12b6b7e button.colab-df-convert');\n",
              "      buttonEl.style.display =\n",
              "        google.colab.kernel.accessAllowed ? 'block' : 'none';\n",
              "\n",
              "      async function convertToInteractive(key) {\n",
              "        const element = document.querySelector('#df-06af9fa3-e1dc-4a5e-a5d8-16d6a12b6b7e');\n",
              "        const dataTable =\n",
              "          await google.colab.kernel.invokeFunction('convertToInteractive',\n",
              "                                                    [key], {});\n",
              "        if (!dataTable) return;\n",
              "\n",
              "        const docLinkHtml = 'Like what you see? Visit the ' +\n",
              "          '<a target=\"_blank\" href=https://colab.research.google.com/notebooks/data_table.ipynb>data table notebook</a>'\n",
              "          + ' to learn more about interactive tables.';\n",
              "        element.innerHTML = '';\n",
              "        dataTable['output_type'] = 'display_data';\n",
              "        await google.colab.output.renderOutput(dataTable, element);\n",
              "        const docLink = document.createElement('div');\n",
              "        docLink.innerHTML = docLinkHtml;\n",
              "        element.appendChild(docLink);\n",
              "      }\n",
              "    </script>\n",
              "  </div>\n",
              "\n",
              "\n",
              "<div id=\"df-7c0e5d42-e754-45f3-8dd5-c2396b963d87\">\n",
              "  <button class=\"colab-df-quickchart\" onclick=\"quickchart('df-7c0e5d42-e754-45f3-8dd5-c2396b963d87')\"\n",
              "            title=\"Suggest charts\"\n",
              "            style=\"display:none;\">\n",
              "\n",
              "<svg xmlns=\"http://www.w3.org/2000/svg\" height=\"24px\"viewBox=\"0 0 24 24\"\n",
              "     width=\"24px\">\n",
              "    <g>\n",
              "        <path d=\"M19 3H5c-1.1 0-2 .9-2 2v14c0 1.1.9 2 2 2h14c1.1 0 2-.9 2-2V5c0-1.1-.9-2-2-2zM9 17H7v-7h2v7zm4 0h-2V7h2v10zm4 0h-2v-4h2v4z\"/>\n",
              "    </g>\n",
              "</svg>\n",
              "  </button>\n",
              "\n",
              "<style>\n",
              "  .colab-df-quickchart {\n",
              "      --bg-color: #E8F0FE;\n",
              "      --fill-color: #1967D2;\n",
              "      --hover-bg-color: #E2EBFA;\n",
              "      --hover-fill-color: #174EA6;\n",
              "      --disabled-fill-color: #AAA;\n",
              "      --disabled-bg-color: #DDD;\n",
              "  }\n",
              "\n",
              "  [theme=dark] .colab-df-quickchart {\n",
              "      --bg-color: #3B4455;\n",
              "      --fill-color: #D2E3FC;\n",
              "      --hover-bg-color: #434B5C;\n",
              "      --hover-fill-color: #FFFFFF;\n",
              "      --disabled-bg-color: #3B4455;\n",
              "      --disabled-fill-color: #666;\n",
              "  }\n",
              "\n",
              "  .colab-df-quickchart {\n",
              "    background-color: var(--bg-color);\n",
              "    border: none;\n",
              "    border-radius: 50%;\n",
              "    cursor: pointer;\n",
              "    display: none;\n",
              "    fill: var(--fill-color);\n",
              "    height: 32px;\n",
              "    padding: 0;\n",
              "    width: 32px;\n",
              "  }\n",
              "\n",
              "  .colab-df-quickchart:hover {\n",
              "    background-color: var(--hover-bg-color);\n",
              "    box-shadow: 0 1px 2px rgba(60, 64, 67, 0.3), 0 1px 3px 1px rgba(60, 64, 67, 0.15);\n",
              "    fill: var(--button-hover-fill-color);\n",
              "  }\n",
              "\n",
              "  .colab-df-quickchart-complete:disabled,\n",
              "  .colab-df-quickchart-complete:disabled:hover {\n",
              "    background-color: var(--disabled-bg-color);\n",
              "    fill: var(--disabled-fill-color);\n",
              "    box-shadow: none;\n",
              "  }\n",
              "\n",
              "  .colab-df-spinner {\n",
              "    border: 2px solid var(--fill-color);\n",
              "    border-color: transparent;\n",
              "    border-bottom-color: var(--fill-color);\n",
              "    animation:\n",
              "      spin 1s steps(1) infinite;\n",
              "  }\n",
              "\n",
              "  @keyframes spin {\n",
              "    0% {\n",
              "      border-color: transparent;\n",
              "      border-bottom-color: var(--fill-color);\n",
              "      border-left-color: var(--fill-color);\n",
              "    }\n",
              "    20% {\n",
              "      border-color: transparent;\n",
              "      border-left-color: var(--fill-color);\n",
              "      border-top-color: var(--fill-color);\n",
              "    }\n",
              "    30% {\n",
              "      border-color: transparent;\n",
              "      border-left-color: var(--fill-color);\n",
              "      border-top-color: var(--fill-color);\n",
              "      border-right-color: var(--fill-color);\n",
              "    }\n",
              "    40% {\n",
              "      border-color: transparent;\n",
              "      border-right-color: var(--fill-color);\n",
              "      border-top-color: var(--fill-color);\n",
              "    }\n",
              "    60% {\n",
              "      border-color: transparent;\n",
              "      border-right-color: var(--fill-color);\n",
              "    }\n",
              "    80% {\n",
              "      border-color: transparent;\n",
              "      border-right-color: var(--fill-color);\n",
              "      border-bottom-color: var(--fill-color);\n",
              "    }\n",
              "    90% {\n",
              "      border-color: transparent;\n",
              "      border-bottom-color: var(--fill-color);\n",
              "    }\n",
              "  }\n",
              "</style>\n",
              "\n",
              "  <script>\n",
              "    async function quickchart(key) {\n",
              "      const quickchartButtonEl =\n",
              "        document.querySelector('#' + key + ' button');\n",
              "      quickchartButtonEl.disabled = true;  // To prevent multiple clicks.\n",
              "      quickchartButtonEl.classList.add('colab-df-spinner');\n",
              "      try {\n",
              "        const charts = await google.colab.kernel.invokeFunction(\n",
              "            'suggestCharts', [key], {});\n",
              "      } catch (error) {\n",
              "        console.error('Error during call to suggestCharts:', error);\n",
              "      }\n",
              "      quickchartButtonEl.classList.remove('colab-df-spinner');\n",
              "      quickchartButtonEl.classList.add('colab-df-quickchart-complete');\n",
              "    }\n",
              "    (() => {\n",
              "      let quickchartButtonEl =\n",
              "        document.querySelector('#df-7c0e5d42-e754-45f3-8dd5-c2396b963d87 button');\n",
              "      quickchartButtonEl.style.display =\n",
              "        google.colab.kernel.accessAllowed ? 'block' : 'none';\n",
              "    })();\n",
              "  </script>\n",
              "</div>\n",
              "\n",
              "    </div>\n",
              "  </div>\n"
            ]
          },
          "metadata": {},
          "execution_count": 122
        }
      ]
    },
    {
      "cell_type": "code",
      "source": [
        "df.info()"
      ],
      "metadata": {
        "colab": {
          "base_uri": "https://localhost:8080/"
        },
        "id": "Jd4bt4V9IHzU",
        "outputId": "693470eb-2cb2-48b9-e056-08c934593fc9"
      },
      "execution_count": 123,
      "outputs": [
        {
          "output_type": "stream",
          "name": "stdout",
          "text": [
            "<class 'pandas.core.frame.DataFrame'>\n",
            "RangeIndex: 10000 entries, 0 to 9999\n",
            "Data columns (total 14 columns):\n",
            " #   Column           Non-Null Count  Dtype  \n",
            "---  ------           --------------  -----  \n",
            " 0   RowNumber        10000 non-null  int64  \n",
            " 1   CustomerId       10000 non-null  int64  \n",
            " 2   Surname          10000 non-null  object \n",
            " 3   CreditScore      10000 non-null  int64  \n",
            " 4   Geography        10000 non-null  object \n",
            " 5   Gender           10000 non-null  object \n",
            " 6   Age              10000 non-null  int64  \n",
            " 7   Tenure           10000 non-null  int64  \n",
            " 8   Balance          10000 non-null  float64\n",
            " 9   NumOfProducts    10000 non-null  int64  \n",
            " 10  HasCrCard        10000 non-null  int64  \n",
            " 11  IsActiveMember   10000 non-null  int64  \n",
            " 12  EstimatedSalary  10000 non-null  float64\n",
            " 13  Exited           10000 non-null  int64  \n",
            "dtypes: float64(2), int64(9), object(3)\n",
            "memory usage: 1.1+ MB\n"
          ]
        }
      ]
    },
    {
      "cell_type": "code",
      "source": [
        "df.duplicated().sum()"
      ],
      "metadata": {
        "colab": {
          "base_uri": "https://localhost:8080/"
        },
        "id": "Titfv216InIR",
        "outputId": "ef4b446d-9a1f-43a3-e08e-7d9ab3028062"
      },
      "execution_count": 124,
      "outputs": [
        {
          "output_type": "execute_result",
          "data": {
            "text/plain": [
              "0"
            ]
          },
          "metadata": {},
          "execution_count": 124
        }
      ]
    },
    {
      "cell_type": "code",
      "source": [
        "df['Exited'].value_counts()"
      ],
      "metadata": {
        "colab": {
          "base_uri": "https://localhost:8080/"
        },
        "id": "tWK9nDFvRMba",
        "outputId": "6c732e38-11fb-4fa4-f82c-1df38b1a2b8c"
      },
      "execution_count": 125,
      "outputs": [
        {
          "output_type": "execute_result",
          "data": {
            "text/plain": [
              "0    7963\n",
              "1    2037\n",
              "Name: Exited, dtype: int64"
            ]
          },
          "metadata": {},
          "execution_count": 125
        }
      ]
    },
    {
      "cell_type": "code",
      "source": [
        "df['Geography'].value_counts()"
      ],
      "metadata": {
        "colab": {
          "base_uri": "https://localhost:8080/"
        },
        "id": "5pvj7zYmYjVe",
        "outputId": "ac47c660-a748-4b27-ca09-d6ff2e837a5e"
      },
      "execution_count": 126,
      "outputs": [
        {
          "output_type": "execute_result",
          "data": {
            "text/plain": [
              "France     5014\n",
              "Germany    2509\n",
              "Spain      2477\n",
              "Name: Geography, dtype: int64"
            ]
          },
          "metadata": {},
          "execution_count": 126
        }
      ]
    },
    {
      "cell_type": "code",
      "source": [
        "df.drop(columns=['RowNumber','CustomerId','Surname'],inplace = True)"
      ],
      "metadata": {
        "id": "eRIPVH2cY4HE"
      },
      "execution_count": 127,
      "outputs": []
    },
    {
      "cell_type": "code",
      "source": [
        "df.head()"
      ],
      "metadata": {
        "colab": {
          "base_uri": "https://localhost:8080/",
          "height": 226
        },
        "id": "fxEVGUlkcxlv",
        "outputId": "4307ad2f-02a5-44ac-b3d7-3577802bb0a8"
      },
      "execution_count": 128,
      "outputs": [
        {
          "output_type": "execute_result",
          "data": {
            "text/plain": [
              "   CreditScore Geography  Gender  Age  Tenure    Balance  NumOfProducts  \\\n",
              "0          619    France  Female   42       2       0.00              1   \n",
              "1          608     Spain  Female   41       1   83807.86              1   \n",
              "2          502    France  Female   42       8  159660.80              3   \n",
              "3          699    France  Female   39       1       0.00              2   \n",
              "4          850     Spain  Female   43       2  125510.82              1   \n",
              "\n",
              "   HasCrCard  IsActiveMember  EstimatedSalary  Exited  \n",
              "0          1               1        101348.88       1  \n",
              "1          0               1        112542.58       0  \n",
              "2          1               0        113931.57       1  \n",
              "3          0               0         93826.63       0  \n",
              "4          1               1         79084.10       0  "
            ],
            "text/html": [
              "\n",
              "  <div id=\"df-d9fd70e1-3924-483c-857b-2791b79a8f5c\" class=\"colab-df-container\">\n",
              "    <div>\n",
              "<style scoped>\n",
              "    .dataframe tbody tr th:only-of-type {\n",
              "        vertical-align: middle;\n",
              "    }\n",
              "\n",
              "    .dataframe tbody tr th {\n",
              "        vertical-align: top;\n",
              "    }\n",
              "\n",
              "    .dataframe thead th {\n",
              "        text-align: right;\n",
              "    }\n",
              "</style>\n",
              "<table border=\"1\" class=\"dataframe\">\n",
              "  <thead>\n",
              "    <tr style=\"text-align: right;\">\n",
              "      <th></th>\n",
              "      <th>CreditScore</th>\n",
              "      <th>Geography</th>\n",
              "      <th>Gender</th>\n",
              "      <th>Age</th>\n",
              "      <th>Tenure</th>\n",
              "      <th>Balance</th>\n",
              "      <th>NumOfProducts</th>\n",
              "      <th>HasCrCard</th>\n",
              "      <th>IsActiveMember</th>\n",
              "      <th>EstimatedSalary</th>\n",
              "      <th>Exited</th>\n",
              "    </tr>\n",
              "  </thead>\n",
              "  <tbody>\n",
              "    <tr>\n",
              "      <th>0</th>\n",
              "      <td>619</td>\n",
              "      <td>France</td>\n",
              "      <td>Female</td>\n",
              "      <td>42</td>\n",
              "      <td>2</td>\n",
              "      <td>0.00</td>\n",
              "      <td>1</td>\n",
              "      <td>1</td>\n",
              "      <td>1</td>\n",
              "      <td>101348.88</td>\n",
              "      <td>1</td>\n",
              "    </tr>\n",
              "    <tr>\n",
              "      <th>1</th>\n",
              "      <td>608</td>\n",
              "      <td>Spain</td>\n",
              "      <td>Female</td>\n",
              "      <td>41</td>\n",
              "      <td>1</td>\n",
              "      <td>83807.86</td>\n",
              "      <td>1</td>\n",
              "      <td>0</td>\n",
              "      <td>1</td>\n",
              "      <td>112542.58</td>\n",
              "      <td>0</td>\n",
              "    </tr>\n",
              "    <tr>\n",
              "      <th>2</th>\n",
              "      <td>502</td>\n",
              "      <td>France</td>\n",
              "      <td>Female</td>\n",
              "      <td>42</td>\n",
              "      <td>8</td>\n",
              "      <td>159660.80</td>\n",
              "      <td>3</td>\n",
              "      <td>1</td>\n",
              "      <td>0</td>\n",
              "      <td>113931.57</td>\n",
              "      <td>1</td>\n",
              "    </tr>\n",
              "    <tr>\n",
              "      <th>3</th>\n",
              "      <td>699</td>\n",
              "      <td>France</td>\n",
              "      <td>Female</td>\n",
              "      <td>39</td>\n",
              "      <td>1</td>\n",
              "      <td>0.00</td>\n",
              "      <td>2</td>\n",
              "      <td>0</td>\n",
              "      <td>0</td>\n",
              "      <td>93826.63</td>\n",
              "      <td>0</td>\n",
              "    </tr>\n",
              "    <tr>\n",
              "      <th>4</th>\n",
              "      <td>850</td>\n",
              "      <td>Spain</td>\n",
              "      <td>Female</td>\n",
              "      <td>43</td>\n",
              "      <td>2</td>\n",
              "      <td>125510.82</td>\n",
              "      <td>1</td>\n",
              "      <td>1</td>\n",
              "      <td>1</td>\n",
              "      <td>79084.10</td>\n",
              "      <td>0</td>\n",
              "    </tr>\n",
              "  </tbody>\n",
              "</table>\n",
              "</div>\n",
              "    <div class=\"colab-df-buttons\">\n",
              "\n",
              "  <div class=\"colab-df-container\">\n",
              "    <button class=\"colab-df-convert\" onclick=\"convertToInteractive('df-d9fd70e1-3924-483c-857b-2791b79a8f5c')\"\n",
              "            title=\"Convert this dataframe to an interactive table.\"\n",
              "            style=\"display:none;\">\n",
              "\n",
              "  <svg xmlns=\"http://www.w3.org/2000/svg\" height=\"24px\" viewBox=\"0 -960 960 960\">\n",
              "    <path d=\"M120-120v-720h720v720H120Zm60-500h600v-160H180v160Zm220 220h160v-160H400v160Zm0 220h160v-160H400v160ZM180-400h160v-160H180v160Zm440 0h160v-160H620v160ZM180-180h160v-160H180v160Zm440 0h160v-160H620v160Z\"/>\n",
              "  </svg>\n",
              "    </button>\n",
              "\n",
              "  <style>\n",
              "    .colab-df-container {\n",
              "      display:flex;\n",
              "      gap: 12px;\n",
              "    }\n",
              "\n",
              "    .colab-df-convert {\n",
              "      background-color: #E8F0FE;\n",
              "      border: none;\n",
              "      border-radius: 50%;\n",
              "      cursor: pointer;\n",
              "      display: none;\n",
              "      fill: #1967D2;\n",
              "      height: 32px;\n",
              "      padding: 0 0 0 0;\n",
              "      width: 32px;\n",
              "    }\n",
              "\n",
              "    .colab-df-convert:hover {\n",
              "      background-color: #E2EBFA;\n",
              "      box-shadow: 0px 1px 2px rgba(60, 64, 67, 0.3), 0px 1px 3px 1px rgba(60, 64, 67, 0.15);\n",
              "      fill: #174EA6;\n",
              "    }\n",
              "\n",
              "    .colab-df-buttons div {\n",
              "      margin-bottom: 4px;\n",
              "    }\n",
              "\n",
              "    [theme=dark] .colab-df-convert {\n",
              "      background-color: #3B4455;\n",
              "      fill: #D2E3FC;\n",
              "    }\n",
              "\n",
              "    [theme=dark] .colab-df-convert:hover {\n",
              "      background-color: #434B5C;\n",
              "      box-shadow: 0px 1px 3px 1px rgba(0, 0, 0, 0.15);\n",
              "      filter: drop-shadow(0px 1px 2px rgba(0, 0, 0, 0.3));\n",
              "      fill: #FFFFFF;\n",
              "    }\n",
              "  </style>\n",
              "\n",
              "    <script>\n",
              "      const buttonEl =\n",
              "        document.querySelector('#df-d9fd70e1-3924-483c-857b-2791b79a8f5c button.colab-df-convert');\n",
              "      buttonEl.style.display =\n",
              "        google.colab.kernel.accessAllowed ? 'block' : 'none';\n",
              "\n",
              "      async function convertToInteractive(key) {\n",
              "        const element = document.querySelector('#df-d9fd70e1-3924-483c-857b-2791b79a8f5c');\n",
              "        const dataTable =\n",
              "          await google.colab.kernel.invokeFunction('convertToInteractive',\n",
              "                                                    [key], {});\n",
              "        if (!dataTable) return;\n",
              "\n",
              "        const docLinkHtml = 'Like what you see? Visit the ' +\n",
              "          '<a target=\"_blank\" href=https://colab.research.google.com/notebooks/data_table.ipynb>data table notebook</a>'\n",
              "          + ' to learn more about interactive tables.';\n",
              "        element.innerHTML = '';\n",
              "        dataTable['output_type'] = 'display_data';\n",
              "        await google.colab.output.renderOutput(dataTable, element);\n",
              "        const docLink = document.createElement('div');\n",
              "        docLink.innerHTML = docLinkHtml;\n",
              "        element.appendChild(docLink);\n",
              "      }\n",
              "    </script>\n",
              "  </div>\n",
              "\n",
              "\n",
              "<div id=\"df-53dd1dd6-d30d-44c5-a84c-094db21c57bb\">\n",
              "  <button class=\"colab-df-quickchart\" onclick=\"quickchart('df-53dd1dd6-d30d-44c5-a84c-094db21c57bb')\"\n",
              "            title=\"Suggest charts\"\n",
              "            style=\"display:none;\">\n",
              "\n",
              "<svg xmlns=\"http://www.w3.org/2000/svg\" height=\"24px\"viewBox=\"0 0 24 24\"\n",
              "     width=\"24px\">\n",
              "    <g>\n",
              "        <path d=\"M19 3H5c-1.1 0-2 .9-2 2v14c0 1.1.9 2 2 2h14c1.1 0 2-.9 2-2V5c0-1.1-.9-2-2-2zM9 17H7v-7h2v7zm4 0h-2V7h2v10zm4 0h-2v-4h2v4z\"/>\n",
              "    </g>\n",
              "</svg>\n",
              "  </button>\n",
              "\n",
              "<style>\n",
              "  .colab-df-quickchart {\n",
              "      --bg-color: #E8F0FE;\n",
              "      --fill-color: #1967D2;\n",
              "      --hover-bg-color: #E2EBFA;\n",
              "      --hover-fill-color: #174EA6;\n",
              "      --disabled-fill-color: #AAA;\n",
              "      --disabled-bg-color: #DDD;\n",
              "  }\n",
              "\n",
              "  [theme=dark] .colab-df-quickchart {\n",
              "      --bg-color: #3B4455;\n",
              "      --fill-color: #D2E3FC;\n",
              "      --hover-bg-color: #434B5C;\n",
              "      --hover-fill-color: #FFFFFF;\n",
              "      --disabled-bg-color: #3B4455;\n",
              "      --disabled-fill-color: #666;\n",
              "  }\n",
              "\n",
              "  .colab-df-quickchart {\n",
              "    background-color: var(--bg-color);\n",
              "    border: none;\n",
              "    border-radius: 50%;\n",
              "    cursor: pointer;\n",
              "    display: none;\n",
              "    fill: var(--fill-color);\n",
              "    height: 32px;\n",
              "    padding: 0;\n",
              "    width: 32px;\n",
              "  }\n",
              "\n",
              "  .colab-df-quickchart:hover {\n",
              "    background-color: var(--hover-bg-color);\n",
              "    box-shadow: 0 1px 2px rgba(60, 64, 67, 0.3), 0 1px 3px 1px rgba(60, 64, 67, 0.15);\n",
              "    fill: var(--button-hover-fill-color);\n",
              "  }\n",
              "\n",
              "  .colab-df-quickchart-complete:disabled,\n",
              "  .colab-df-quickchart-complete:disabled:hover {\n",
              "    background-color: var(--disabled-bg-color);\n",
              "    fill: var(--disabled-fill-color);\n",
              "    box-shadow: none;\n",
              "  }\n",
              "\n",
              "  .colab-df-spinner {\n",
              "    border: 2px solid var(--fill-color);\n",
              "    border-color: transparent;\n",
              "    border-bottom-color: var(--fill-color);\n",
              "    animation:\n",
              "      spin 1s steps(1) infinite;\n",
              "  }\n",
              "\n",
              "  @keyframes spin {\n",
              "    0% {\n",
              "      border-color: transparent;\n",
              "      border-bottom-color: var(--fill-color);\n",
              "      border-left-color: var(--fill-color);\n",
              "    }\n",
              "    20% {\n",
              "      border-color: transparent;\n",
              "      border-left-color: var(--fill-color);\n",
              "      border-top-color: var(--fill-color);\n",
              "    }\n",
              "    30% {\n",
              "      border-color: transparent;\n",
              "      border-left-color: var(--fill-color);\n",
              "      border-top-color: var(--fill-color);\n",
              "      border-right-color: var(--fill-color);\n",
              "    }\n",
              "    40% {\n",
              "      border-color: transparent;\n",
              "      border-right-color: var(--fill-color);\n",
              "      border-top-color: var(--fill-color);\n",
              "    }\n",
              "    60% {\n",
              "      border-color: transparent;\n",
              "      border-right-color: var(--fill-color);\n",
              "    }\n",
              "    80% {\n",
              "      border-color: transparent;\n",
              "      border-right-color: var(--fill-color);\n",
              "      border-bottom-color: var(--fill-color);\n",
              "    }\n",
              "    90% {\n",
              "      border-color: transparent;\n",
              "      border-bottom-color: var(--fill-color);\n",
              "    }\n",
              "  }\n",
              "</style>\n",
              "\n",
              "  <script>\n",
              "    async function quickchart(key) {\n",
              "      const quickchartButtonEl =\n",
              "        document.querySelector('#' + key + ' button');\n",
              "      quickchartButtonEl.disabled = true;  // To prevent multiple clicks.\n",
              "      quickchartButtonEl.classList.add('colab-df-spinner');\n",
              "      try {\n",
              "        const charts = await google.colab.kernel.invokeFunction(\n",
              "            'suggestCharts', [key], {});\n",
              "      } catch (error) {\n",
              "        console.error('Error during call to suggestCharts:', error);\n",
              "      }\n",
              "      quickchartButtonEl.classList.remove('colab-df-spinner');\n",
              "      quickchartButtonEl.classList.add('colab-df-quickchart-complete');\n",
              "    }\n",
              "    (() => {\n",
              "      let quickchartButtonEl =\n",
              "        document.querySelector('#df-53dd1dd6-d30d-44c5-a84c-094db21c57bb button');\n",
              "      quickchartButtonEl.style.display =\n",
              "        google.colab.kernel.accessAllowed ? 'block' : 'none';\n",
              "    })();\n",
              "  </script>\n",
              "</div>\n",
              "\n",
              "    </div>\n",
              "  </div>\n"
            ]
          },
          "metadata": {},
          "execution_count": 128
        }
      ]
    },
    {
      "cell_type": "code",
      "source": [
        "df = pd.get_dummies(df,columns=['Geography','Gender'],drop_first=True) #drop_first=True is important to use, as it helps in reducing the extra column created during dummy variable creation.\n"
      ],
      "metadata": {
        "id": "PfK9VVyjdC7V"
      },
      "execution_count": 129,
      "outputs": []
    },
    {
      "cell_type": "code",
      "source": [
        "X = df.drop(columns=['Exited'])\n",
        "y = df['Exited']\n",
        "from sklearn.model_selection import train_test_split\n",
        "X_train, X_test, y_train,y_test = train_test_split(X,y,test_size=0.2, random_state=1)"
      ],
      "metadata": {
        "id": "jTVoG3aKdJh6"
      },
      "execution_count": 130,
      "outputs": []
    },
    {
      "cell_type": "code",
      "source": [
        "from sklearn.preprocessing import StandardScaler\n",
        "scaler = StandardScaler()\n",
        "\n",
        "X_train_scaled = scaler.fit_transform(X_train)\n",
        "X_test_scaled = scaler.transform(X_test)"
      ],
      "metadata": {
        "id": "FEy4_HTbhUsK"
      },
      "execution_count": 131,
      "outputs": []
    },
    {
      "cell_type": "code",
      "source": [
        "X_train_scaled"
      ],
      "metadata": {
        "colab": {
          "base_uri": "https://localhost:8080/"
        },
        "id": "Xq1uBKXihqow",
        "outputId": "5e358917-f8fd-4b19-ec12-3d4bfd593fcb"
      },
      "execution_count": 132,
      "outputs": [
        {
          "output_type": "execute_result",
          "data": {
            "text/plain": [
              "array([[-0.23082038, -0.94449979, -0.70174202, ...,  1.71490137,\n",
              "        -0.57273139,  0.91509065],\n",
              "       [-0.25150912, -0.94449979, -0.35520275, ..., -0.58312392,\n",
              "        -0.57273139, -1.09278791],\n",
              "       [-0.3963303 ,  0.77498705,  0.33787579, ...,  1.71490137,\n",
              "        -0.57273139, -1.09278791],\n",
              "       ...,\n",
              "       [ 0.22433188,  0.58393295,  1.3774936 , ..., -0.58312392,\n",
              "        -0.57273139, -1.09278791],\n",
              "       [ 0.13123255,  0.01077067,  1.03095433, ..., -0.58312392,\n",
              "        -0.57273139, -1.09278791],\n",
              "       [ 1.1656695 ,  0.29735181,  0.33787579, ...,  1.71490137,\n",
              "        -0.57273139,  0.91509065]])"
            ]
          },
          "metadata": {},
          "execution_count": 132
        }
      ]
    },
    {
      "cell_type": "code",
      "source": [
        "import tensorflow\n",
        "from tensorflow import keras\n",
        "from tensorflow.keras import Sequential\n",
        "from tensorflow.keras.layers import Dense"
      ],
      "metadata": {
        "id": "AuVx1cW3j4zX"
      },
      "execution_count": 133,
      "outputs": []
    },
    {
      "cell_type": "code",
      "source": [
        "model = Sequential()\n",
        "model.add(Dense(3,activation='relu',input_dim=11)) #hiddenlayer\n",
        "model.add(Dense(1,activation='relu'))\n",
        ""
      ],
      "metadata": {
        "id": "-Hs4LJderJYY"
      },
      "execution_count": 148,
      "outputs": []
    },
    {
      "cell_type": "code",
      "source": [
        "model.summary()"
      ],
      "metadata": {
        "colab": {
          "base_uri": "https://localhost:8080/"
        },
        "id": "FrbVyaOXsnZQ",
        "outputId": "26dfff79-ba35-4b29-99f1-4fb13ede34cf"
      },
      "execution_count": 135,
      "outputs": [
        {
          "output_type": "stream",
          "name": "stdout",
          "text": [
            "Model: \"sequential_5\"\n",
            "_________________________________________________________________\n",
            " Layer (type)                Output Shape              Param #   \n",
            "=================================================================\n",
            " dense_9 (Dense)             (None, 3)                 36        \n",
            "                                                                 \n",
            " dense_10 (Dense)            (None, 1)                 4         \n",
            "                                                                 \n",
            "=================================================================\n",
            "Total params: 40 (160.00 Byte)\n",
            "Trainable params: 40 (160.00 Byte)\n",
            "Non-trainable params: 0 (0.00 Byte)\n",
            "_________________________________________________________________\n"
          ]
        }
      ]
    },
    {
      "cell_type": "code",
      "source": [
        "#COMPILE STAGE- INPUTS About lossfuntion,Optimizer\n",
        "model.compile(loss='binary_crossentropy',optimizer='Adam',metrics=['accuracy'])\n"
      ],
      "metadata": {
        "id": "qrX3kOexsuXk"
      },
      "execution_count": 186,
      "outputs": []
    },
    {
      "cell_type": "code",
      "source": [
        "#history=model.fit(X_train_scaled,y_train,epochs=20,validation_split=0.2)\n",
        "history = model.fit(X_train_scaled,y_train,batch_size=50,epochs=50,verbose=1,validation_split=0.3)\n"
      ],
      "metadata": {
        "colab": {
          "base_uri": "https://localhost:8080/"
        },
        "id": "4GOsdRghtb9q",
        "outputId": "f3691360-5c98-489e-b4f9-4263e0647ef0"
      },
      "execution_count": 187,
      "outputs": [
        {
          "output_type": "stream",
          "name": "stdout",
          "text": [
            "Epoch 1/50\n",
            "112/112 [==============================] - 1s 4ms/step - loss: 3.1401 - accuracy: 0.7964 - val_loss: 3.0978 - val_accuracy: 0.7992\n",
            "Epoch 2/50\n",
            "112/112 [==============================] - 0s 2ms/step - loss: 3.1401 - accuracy: 0.7964 - val_loss: 3.0978 - val_accuracy: 0.7992\n",
            "Epoch 3/50\n",
            "112/112 [==============================] - 0s 2ms/step - loss: 3.1401 - accuracy: 0.7964 - val_loss: 3.0978 - val_accuracy: 0.7992\n",
            "Epoch 4/50\n",
            "112/112 [==============================] - 0s 2ms/step - loss: 3.1401 - accuracy: 0.7964 - val_loss: 3.0978 - val_accuracy: 0.7992\n",
            "Epoch 5/50\n",
            "112/112 [==============================] - 0s 2ms/step - loss: 3.1401 - accuracy: 0.7964 - val_loss: 3.0978 - val_accuracy: 0.7992\n",
            "Epoch 6/50\n",
            "112/112 [==============================] - 0s 3ms/step - loss: 3.1401 - accuracy: 0.7964 - val_loss: 3.0978 - val_accuracy: 0.7992\n",
            "Epoch 7/50\n",
            "112/112 [==============================] - 0s 4ms/step - loss: 3.1401 - accuracy: 0.7964 - val_loss: 3.0978 - val_accuracy: 0.7992\n",
            "Epoch 8/50\n",
            "112/112 [==============================] - 0s 4ms/step - loss: 3.1401 - accuracy: 0.7964 - val_loss: 3.0978 - val_accuracy: 0.7992\n",
            "Epoch 9/50\n",
            "112/112 [==============================] - 0s 3ms/step - loss: 3.1401 - accuracy: 0.7964 - val_loss: 3.0978 - val_accuracy: 0.7992\n",
            "Epoch 10/50\n",
            "112/112 [==============================] - 0s 4ms/step - loss: 3.1401 - accuracy: 0.7964 - val_loss: 3.0978 - val_accuracy: 0.7992\n",
            "Epoch 11/50\n",
            "112/112 [==============================] - 0s 4ms/step - loss: 3.1401 - accuracy: 0.7964 - val_loss: 3.0978 - val_accuracy: 0.7992\n",
            "Epoch 12/50\n",
            "112/112 [==============================] - 0s 2ms/step - loss: 3.1401 - accuracy: 0.7964 - val_loss: 3.0978 - val_accuracy: 0.7992\n",
            "Epoch 13/50\n",
            "112/112 [==============================] - 0s 2ms/step - loss: 3.1401 - accuracy: 0.7964 - val_loss: 3.0978 - val_accuracy: 0.7992\n",
            "Epoch 14/50\n",
            "112/112 [==============================] - 0s 2ms/step - loss: 3.1401 - accuracy: 0.7964 - val_loss: 3.0978 - val_accuracy: 0.7992\n",
            "Epoch 15/50\n",
            "112/112 [==============================] - 0s 2ms/step - loss: 3.1401 - accuracy: 0.7964 - val_loss: 3.0978 - val_accuracy: 0.7992\n",
            "Epoch 16/50\n",
            "112/112 [==============================] - 0s 2ms/step - loss: 3.1401 - accuracy: 0.7964 - val_loss: 3.0978 - val_accuracy: 0.7992\n",
            "Epoch 17/50\n",
            "112/112 [==============================] - 0s 3ms/step - loss: 3.1401 - accuracy: 0.7964 - val_loss: 3.0978 - val_accuracy: 0.7992\n",
            "Epoch 18/50\n",
            "112/112 [==============================] - 0s 2ms/step - loss: 3.1401 - accuracy: 0.7964 - val_loss: 3.0978 - val_accuracy: 0.7992\n",
            "Epoch 19/50\n",
            "112/112 [==============================] - 0s 2ms/step - loss: 3.1401 - accuracy: 0.7964 - val_loss: 3.0978 - val_accuracy: 0.7992\n",
            "Epoch 20/50\n",
            "112/112 [==============================] - 0s 2ms/step - loss: 3.1401 - accuracy: 0.7964 - val_loss: 3.0978 - val_accuracy: 0.7992\n",
            "Epoch 21/50\n",
            "112/112 [==============================] - 0s 3ms/step - loss: 3.1401 - accuracy: 0.7964 - val_loss: 3.0978 - val_accuracy: 0.7992\n",
            "Epoch 22/50\n",
            "112/112 [==============================] - 0s 2ms/step - loss: 3.1401 - accuracy: 0.7964 - val_loss: 3.0978 - val_accuracy: 0.7992\n",
            "Epoch 23/50\n",
            "112/112 [==============================] - 0s 2ms/step - loss: 3.1401 - accuracy: 0.7964 - val_loss: 3.0978 - val_accuracy: 0.7992\n",
            "Epoch 24/50\n",
            "112/112 [==============================] - 0s 2ms/step - loss: 3.1401 - accuracy: 0.7964 - val_loss: 3.0978 - val_accuracy: 0.7992\n",
            "Epoch 25/50\n",
            "112/112 [==============================] - 0s 2ms/step - loss: 3.1401 - accuracy: 0.7964 - val_loss: 3.0978 - val_accuracy: 0.7992\n",
            "Epoch 26/50\n",
            "112/112 [==============================] - 0s 2ms/step - loss: 3.1401 - accuracy: 0.7964 - val_loss: 3.0978 - val_accuracy: 0.7992\n",
            "Epoch 27/50\n",
            "112/112 [==============================] - 0s 2ms/step - loss: 3.1401 - accuracy: 0.7964 - val_loss: 3.0978 - val_accuracy: 0.7992\n",
            "Epoch 28/50\n",
            "112/112 [==============================] - 0s 2ms/step - loss: 3.1401 - accuracy: 0.7964 - val_loss: 3.0978 - val_accuracy: 0.7992\n",
            "Epoch 29/50\n",
            "112/112 [==============================] - 0s 2ms/step - loss: 3.1401 - accuracy: 0.7964 - val_loss: 3.0978 - val_accuracy: 0.7992\n",
            "Epoch 30/50\n",
            "112/112 [==============================] - 0s 3ms/step - loss: 3.1401 - accuracy: 0.7964 - val_loss: 3.0978 - val_accuracy: 0.7992\n",
            "Epoch 31/50\n",
            "112/112 [==============================] - 0s 2ms/step - loss: 3.1401 - accuracy: 0.7964 - val_loss: 3.0978 - val_accuracy: 0.7992\n",
            "Epoch 32/50\n",
            "112/112 [==============================] - 0s 3ms/step - loss: 3.1401 - accuracy: 0.7964 - val_loss: 3.0978 - val_accuracy: 0.7992\n",
            "Epoch 33/50\n",
            "112/112 [==============================] - 0s 2ms/step - loss: 3.1401 - accuracy: 0.7964 - val_loss: 3.0978 - val_accuracy: 0.7992\n",
            "Epoch 34/50\n",
            "112/112 [==============================] - 0s 3ms/step - loss: 3.1401 - accuracy: 0.7964 - val_loss: 3.0978 - val_accuracy: 0.7992\n",
            "Epoch 35/50\n",
            "112/112 [==============================] - 0s 3ms/step - loss: 3.1401 - accuracy: 0.7964 - val_loss: 3.0978 - val_accuracy: 0.7992\n",
            "Epoch 36/50\n",
            "112/112 [==============================] - 0s 2ms/step - loss: 3.1401 - accuracy: 0.7964 - val_loss: 3.0978 - val_accuracy: 0.7992\n",
            "Epoch 37/50\n",
            "112/112 [==============================] - 0s 2ms/step - loss: 3.1401 - accuracy: 0.7964 - val_loss: 3.0978 - val_accuracy: 0.7992\n",
            "Epoch 38/50\n",
            "112/112 [==============================] - 0s 2ms/step - loss: 3.1401 - accuracy: 0.7964 - val_loss: 3.0978 - val_accuracy: 0.7992\n",
            "Epoch 39/50\n",
            "112/112 [==============================] - 0s 2ms/step - loss: 3.1401 - accuracy: 0.7964 - val_loss: 3.0978 - val_accuracy: 0.7992\n",
            "Epoch 40/50\n",
            "112/112 [==============================] - 0s 2ms/step - loss: 3.1401 - accuracy: 0.7964 - val_loss: 3.0978 - val_accuracy: 0.7992\n",
            "Epoch 41/50\n",
            "112/112 [==============================] - 0s 2ms/step - loss: 3.1401 - accuracy: 0.7964 - val_loss: 3.0978 - val_accuracy: 0.7992\n",
            "Epoch 42/50\n",
            "112/112 [==============================] - 0s 3ms/step - loss: 3.1401 - accuracy: 0.7964 - val_loss: 3.0978 - val_accuracy: 0.7992\n",
            "Epoch 43/50\n",
            "112/112 [==============================] - 0s 2ms/step - loss: 3.1401 - accuracy: 0.7964 - val_loss: 3.0978 - val_accuracy: 0.7992\n",
            "Epoch 44/50\n",
            "112/112 [==============================] - 0s 3ms/step - loss: 3.1401 - accuracy: 0.7964 - val_loss: 3.0978 - val_accuracy: 0.7992\n",
            "Epoch 45/50\n",
            "112/112 [==============================] - 0s 3ms/step - loss: 3.1401 - accuracy: 0.7964 - val_loss: 3.0978 - val_accuracy: 0.7992\n",
            "Epoch 46/50\n",
            "112/112 [==============================] - 0s 4ms/step - loss: 3.1401 - accuracy: 0.7964 - val_loss: 3.0978 - val_accuracy: 0.7992\n",
            "Epoch 47/50\n",
            "112/112 [==============================] - 0s 3ms/step - loss: 3.1401 - accuracy: 0.7964 - val_loss: 3.0978 - val_accuracy: 0.7992\n",
            "Epoch 48/50\n",
            "112/112 [==============================] - 0s 4ms/step - loss: 3.1401 - accuracy: 0.7964 - val_loss: 3.0978 - val_accuracy: 0.7992\n",
            "Epoch 49/50\n",
            "112/112 [==============================] - 0s 4ms/step - loss: 3.1401 - accuracy: 0.7964 - val_loss: 3.0978 - val_accuracy: 0.7992\n",
            "Epoch 50/50\n",
            "112/112 [==============================] - 0s 4ms/step - loss: 3.1401 - accuracy: 0.7964 - val_loss: 3.0978 - val_accuracy: 0.7992\n"
          ]
        }
      ]
    },
    {
      "cell_type": "code",
      "source": [
        "_+model.layers[0].get_weights()\n",
        "#Those 36 weights nad 3 bias from coming as input to hidden layer"
      ],
      "metadata": {
        "colab": {
          "base_uri": "https://localhost:8080/"
        },
        "id": "GSaEi-4jtvgt",
        "outputId": "4dc6d6a4-2696-4d1f-a673-6905785272c7"
      },
      "execution_count": 188,
      "outputs": [
        {
          "output_type": "execute_result",
          "data": {
            "text/plain": [
              "[<matplotlib.lines.Line2D at 0x7d5b92ddbd90>,\n",
              " array([[-0.3341195 , -0.16143098, -0.51687247],\n",
              "        [-0.30830923,  0.00799811, -0.3840528 ],\n",
              "        [ 0.5639913 , -0.05686051,  0.0632655 ],\n",
              "        [-0.36221012,  0.6497135 ,  0.38796437],\n",
              "        [-0.4701568 ,  0.14216518,  0.4256208 ],\n",
              "        [ 0.60469854, -0.5463402 , -0.33186835],\n",
              "        [-0.03561628, -0.39029452, -0.46040905],\n",
              "        [ 0.03958011, -0.29634246,  0.5539813 ],\n",
              "        [-0.30451068,  0.03738981,  0.4537462 ],\n",
              "        [ 0.14926112, -0.5189479 ,  0.5149919 ],\n",
              "        [ 0.24281943,  0.22968608, -0.23919302]], dtype=float32),\n",
              " array([0., 0., 0.], dtype=float32)]"
            ]
          },
          "metadata": {},
          "execution_count": 188
        }
      ]
    },
    {
      "cell_type": "code",
      "source": [
        "#Those 3 weights and and 1bias to output layer\n",
        "model.layers[1].get_weights()"
      ],
      "metadata": {
        "colab": {
          "base_uri": "https://localhost:8080/"
        },
        "id": "vKplGlBbuFZ8",
        "outputId": "28d09e6a-9019-4797-beb7-4298657bf5cd"
      },
      "execution_count": 189,
      "outputs": [
        {
          "output_type": "execute_result",
          "data": {
            "text/plain": [
              "[array([[-1.1653476 ],\n",
              "        [-0.94635785],\n",
              "        [-0.8645494 ]], dtype=float32),\n",
              " array([0.], dtype=float32)]"
            ]
          },
          "metadata": {},
          "execution_count": 189
        }
      ]
    },
    {
      "cell_type": "code",
      "source": [
        "model.predict(X_test_scaled)"
      ],
      "metadata": {
        "colab": {
          "base_uri": "https://localhost:8080/"
        },
        "id": "f60rSbA2ua2-",
        "outputId": "34726bc3-50c7-42b4-d67a-551ae705a017"
      },
      "execution_count": 190,
      "outputs": [
        {
          "output_type": "stream",
          "name": "stdout",
          "text": [
            "63/63 [==============================] - 0s 1ms/step\n"
          ]
        },
        {
          "output_type": "execute_result",
          "data": {
            "text/plain": [
              "array([[0.],\n",
              "       [0.],\n",
              "       [0.],\n",
              "       ...,\n",
              "       [0.],\n",
              "       [0.],\n",
              "       [0.]], dtype=float32)"
            ]
          },
          "metadata": {},
          "execution_count": 190
        }
      ]
    },
    {
      "cell_type": "code",
      "source": [
        "y_log=model.predict(X_test_scaled)"
      ],
      "metadata": {
        "colab": {
          "base_uri": "https://localhost:8080/"
        },
        "id": "ZjTAyydduzG_",
        "outputId": "54ae6300-d8d9-4a7d-d183-913af2b1528b"
      },
      "execution_count": 191,
      "outputs": [
        {
          "output_type": "stream",
          "name": "stdout",
          "text": [
            "63/63 [==============================] - 0s 1ms/step\n"
          ]
        }
      ]
    },
    {
      "cell_type": "code",
      "source": [
        "y_pred=np.where(y_log>0.5,1,0)"
      ],
      "metadata": {
        "id": "xECsR34OvCyH"
      },
      "execution_count": 192,
      "outputs": []
    },
    {
      "cell_type": "code",
      "source": [
        "from sklearn.metrics import accuracy_score\n",
        "accuracy_score(y_test,y_pred)"
      ],
      "metadata": {
        "colab": {
          "base_uri": "https://localhost:8080/"
        },
        "id": "7i_nw1mbvHC_",
        "outputId": "d6cee011-268b-4857-e3e8-6bd01d896387"
      },
      "execution_count": 193,
      "outputs": [
        {
          "output_type": "execute_result",
          "data": {
            "text/plain": [
              "0.7925"
            ]
          },
          "metadata": {},
          "execution_count": 193
        }
      ]
    },
    {
      "cell_type": "code",
      "source": [
        "import matplotlib.pyplot as plt"
      ],
      "metadata": {
        "id": "t-vxX9aMvjge"
      },
      "execution_count": 194,
      "outputs": []
    },
    {
      "cell_type": "code",
      "source": [
        "history.history\n"
      ],
      "metadata": {
        "colab": {
          "base_uri": "https://localhost:8080/"
        },
        "id": "UaHINxyPzcXS",
        "outputId": "1417d89d-8893-4da8-a5c9-853b6448f96b"
      },
      "execution_count": 195,
      "outputs": [
        {
          "output_type": "execute_result",
          "data": {
            "text/plain": [
              "{'loss': [3.140078544616699,\n",
              "  3.140078544616699,\n",
              "  3.1400794982910156,\n",
              "  3.1400792598724365,\n",
              "  3.140077829360962,\n",
              "  3.140078067779541,\n",
              "  3.140078067779541,\n",
              "  3.140078544616699,\n",
              "  3.140078544616699,\n",
              "  3.1400773525238037,\n",
              "  3.140078544616699,\n",
              "  3.140078067779541,\n",
              "  3.140078067779541,\n",
              "  3.1400792598724365,\n",
              "  3.1400787830352783,\n",
              "  3.140078067779541,\n",
              "  3.140078544616699,\n",
              "  3.140078544616699,\n",
              "  3.140078067779541,\n",
              "  3.1400773525238037,\n",
              "  3.1400787830352783,\n",
              "  3.1400792598724365,\n",
              "  3.140078067779541,\n",
              "  3.1400787830352783,\n",
              "  3.140078544616699,\n",
              "  3.140077829360962,\n",
              "  3.1400787830352783,\n",
              "  3.140078067779541,\n",
              "  3.140078067779541,\n",
              "  3.140077829360962,\n",
              "  3.140078544616699,\n",
              "  3.140078067779541,\n",
              "  3.140078067779541,\n",
              "  3.140077829360962,\n",
              "  3.140078544616699,\n",
              "  3.140078544616699,\n",
              "  3.140078544616699,\n",
              "  3.140078544616699,\n",
              "  3.140078544616699,\n",
              "  3.140077829360962,\n",
              "  3.140078544616699,\n",
              "  3.1400792598724365,\n",
              "  3.1400787830352783,\n",
              "  3.1400787830352783,\n",
              "  3.140077829360962,\n",
              "  3.140078544616699,\n",
              "  3.140078067779541,\n",
              "  3.140078067779541,\n",
              "  3.1400787830352783,\n",
              "  3.140078544616699],\n",
              " 'accuracy': [0.7964285612106323,\n",
              "  0.7964285612106323,\n",
              "  0.7964285612106323,\n",
              "  0.7964285612106323,\n",
              "  0.7964285612106323,\n",
              "  0.7964285612106323,\n",
              "  0.7964285612106323,\n",
              "  0.7964285612106323,\n",
              "  0.7964285612106323,\n",
              "  0.7964285612106323,\n",
              "  0.7964285612106323,\n",
              "  0.7964285612106323,\n",
              "  0.7964285612106323,\n",
              "  0.7964285612106323,\n",
              "  0.7964285612106323,\n",
              "  0.7964285612106323,\n",
              "  0.7964285612106323,\n",
              "  0.7964285612106323,\n",
              "  0.7964285612106323,\n",
              "  0.7964285612106323,\n",
              "  0.7964285612106323,\n",
              "  0.7964285612106323,\n",
              "  0.7964285612106323,\n",
              "  0.7964285612106323,\n",
              "  0.7964285612106323,\n",
              "  0.7964285612106323,\n",
              "  0.7964285612106323,\n",
              "  0.7964285612106323,\n",
              "  0.7964285612106323,\n",
              "  0.7964285612106323,\n",
              "  0.7964285612106323,\n",
              "  0.7964285612106323,\n",
              "  0.7964285612106323,\n",
              "  0.7964285612106323,\n",
              "  0.7964285612106323,\n",
              "  0.7964285612106323,\n",
              "  0.7964285612106323,\n",
              "  0.7964285612106323,\n",
              "  0.7964285612106323,\n",
              "  0.7964285612106323,\n",
              "  0.7964285612106323,\n",
              "  0.7964285612106323,\n",
              "  0.7964285612106323,\n",
              "  0.7964285612106323,\n",
              "  0.7964285612106323,\n",
              "  0.7964285612106323,\n",
              "  0.7964285612106323,\n",
              "  0.7964285612106323,\n",
              "  0.7964285612106323,\n",
              "  0.7964285612106323],\n",
              " 'val_loss': [3.097843885421753,\n",
              "  3.097843885421753,\n",
              "  3.097843885421753,\n",
              "  3.097843885421753,\n",
              "  3.097843885421753,\n",
              "  3.097843885421753,\n",
              "  3.097843885421753,\n",
              "  3.097843885421753,\n",
              "  3.097843885421753,\n",
              "  3.097843885421753,\n",
              "  3.097843885421753,\n",
              "  3.097843885421753,\n",
              "  3.097843885421753,\n",
              "  3.097843885421753,\n",
              "  3.097843885421753,\n",
              "  3.097843885421753,\n",
              "  3.097843885421753,\n",
              "  3.097843885421753,\n",
              "  3.097843885421753,\n",
              "  3.097843885421753,\n",
              "  3.097843885421753,\n",
              "  3.097843885421753,\n",
              "  3.097843885421753,\n",
              "  3.097843885421753,\n",
              "  3.097843885421753,\n",
              "  3.097843885421753,\n",
              "  3.097843885421753,\n",
              "  3.097843885421753,\n",
              "  3.097843885421753,\n",
              "  3.097843885421753,\n",
              "  3.097843885421753,\n",
              "  3.097843885421753,\n",
              "  3.097843885421753,\n",
              "  3.097843885421753,\n",
              "  3.097843885421753,\n",
              "  3.097843885421753,\n",
              "  3.097843885421753,\n",
              "  3.097843885421753,\n",
              "  3.097843885421753,\n",
              "  3.097843885421753,\n",
              "  3.097843885421753,\n",
              "  3.097843885421753,\n",
              "  3.097843885421753,\n",
              "  3.097843885421753,\n",
              "  3.097843885421753,\n",
              "  3.097843885421753,\n",
              "  3.097843885421753,\n",
              "  3.097843885421753,\n",
              "  3.097843885421753,\n",
              "  3.097843885421753],\n",
              " 'val_accuracy': [0.7991666793823242,\n",
              "  0.7991666793823242,\n",
              "  0.7991666793823242,\n",
              "  0.7991666793823242,\n",
              "  0.7991666793823242,\n",
              "  0.7991666793823242,\n",
              "  0.7991666793823242,\n",
              "  0.7991666793823242,\n",
              "  0.7991666793823242,\n",
              "  0.7991666793823242,\n",
              "  0.7991666793823242,\n",
              "  0.7991666793823242,\n",
              "  0.7991666793823242,\n",
              "  0.7991666793823242,\n",
              "  0.7991666793823242,\n",
              "  0.7991666793823242,\n",
              "  0.7991666793823242,\n",
              "  0.7991666793823242,\n",
              "  0.7991666793823242,\n",
              "  0.7991666793823242,\n",
              "  0.7991666793823242,\n",
              "  0.7991666793823242,\n",
              "  0.7991666793823242,\n",
              "  0.7991666793823242,\n",
              "  0.7991666793823242,\n",
              "  0.7991666793823242,\n",
              "  0.7991666793823242,\n",
              "  0.7991666793823242,\n",
              "  0.7991666793823242,\n",
              "  0.7991666793823242,\n",
              "  0.7991666793823242,\n",
              "  0.7991666793823242,\n",
              "  0.7991666793823242,\n",
              "  0.7991666793823242,\n",
              "  0.7991666793823242,\n",
              "  0.7991666793823242,\n",
              "  0.7991666793823242,\n",
              "  0.7991666793823242,\n",
              "  0.7991666793823242,\n",
              "  0.7991666793823242,\n",
              "  0.7991666793823242,\n",
              "  0.7991666793823242,\n",
              "  0.7991666793823242,\n",
              "  0.7991666793823242,\n",
              "  0.7991666793823242,\n",
              "  0.7991666793823242,\n",
              "  0.7991666793823242,\n",
              "  0.7991666793823242,\n",
              "  0.7991666793823242,\n",
              "  0.7991666793823242]}"
            ]
          },
          "metadata": {},
          "execution_count": 195
        }
      ]
    },
    {
      "cell_type": "code",
      "source": [
        "plt.plot(history.history['loss'])\n",
        "plt.plot(history.history['val_loss'])"
      ],
      "metadata": {
        "colab": {
          "base_uri": "https://localhost:8080/",
          "height": 447
        },
        "id": "4kDp2ukjzzpA",
        "outputId": "b30e26a3-a20a-4b26-da9a-ea926bb615d6"
      },
      "execution_count": 196,
      "outputs": [
        {
          "output_type": "execute_result",
          "data": {
            "text/plain": [
              "[<matplotlib.lines.Line2D at 0x7d5b9287c0a0>]"
            ]
          },
          "metadata": {},
          "execution_count": 196
        },
        {
          "output_type": "display_data",
          "data": {
            "text/plain": [
              "<Figure size 640x480 with 1 Axes>"
            ],
            "image/png": "[encoded data removed]"
          },
          "metadata": {}
        }
      ]
    },
    {
      "cell_type": "code",
      "source": [
        "plt.plot(history.history['accuracy'])\n",
        "plt.plot(history.history['val_accuracy'])"
      ],
      "metadata": {
        "colab": {
          "base_uri": "https://localhost:8080/",
          "height": 447
        },
        "id": "T9lmaeVzz3R2",
        "outputId": "deb3f0fb-04bc-433e-d923-384afb408128"
      },
      "execution_count": 197,
      "outputs": [
        {
          "output_type": "execute_result",
          "data": {
            "text/plain": [
              "[<matplotlib.lines.Line2D at 0x7d5b928cf1c0>]"
            ]
          },
          "metadata": {},
          "execution_count": 197
        },
        {
          "output_type": "display_data",
          "data": {
            "text/plain": [
              "<Figure size 640x480 with 1 Axes>"
            ],
            "image/png": "[encoded data removed]"
          },
          "metadata": {}
        }
      ]
    },
    {
      "cell_type": "code",
      "source": [],
      "metadata": {
        "id": "vWHRSdas0ZsG"
      },
      "execution_count": 197,
      "outputs": []
    }
  ]
}